{
 "cells": [
  {
   "cell_type": "markdown",
   "metadata": {},
   "source": [
    "# COMP 7570 Project -  Ripple Metrics"
   ]
  },
  {
   "cell_type": "code",
   "execution_count": 2,
   "metadata": {},
   "outputs": [],
   "source": [
    "import pandas as pd\n",
    "import matplotlib.pyplot as plt\n",
    "from data_api.ripple_data_api import RippleDataAPIClient"
   ]
  },
  {
   "cell_type": "code",
   "execution_count": 3,
   "metadata": {},
   "outputs": [],
   "source": [
    "api = RippleDataAPIClient('https://data.ripple.com')"
   ]
  },
  {
   "cell_type": "markdown",
   "metadata": {},
   "source": [
    "### Trade Volume"
   ]
  },
  {
   "cell_type": "code",
   "execution_count": 107,
   "metadata": {},
   "outputs": [],
   "source": [
    "trade_volume = api.get_exchange_volume()\n",
    "\n",
    "df_row_trade_volume = pd.DataFrame.from_dict(trade_volume['rows'][0]['components'], orient='columns')"
   ]
  },
  {
   "cell_type": "code",
   "execution_count": 5,
   "metadata": {},
   "outputs": [],
   "source": [
    "df_trade_volume = pd.DataFrame('0',index=range(0,len(df_row_trade_volume)),columns=['base_currency','counter_currency',\n",
    "                                                                                    'amount'])"
   ]
  },
  {
   "cell_type": "code",
   "execution_count": 6,
   "metadata": {},
   "outputs": [],
   "source": [
    "for index,row in df_row_trade_volume.iterrows():    \n",
    "    df_trade_volume.iloc[index]['base_currency'] = row['base']['currency']\n",
    "    df_trade_volume.iloc[index]['counter_currency'] = row['counter']['currency']\n",
    "    df_trade_volume.iloc[index]['amount'] = row['amount']"
   ]
  },
  {
   "cell_type": "code",
   "execution_count": 7,
   "metadata": {},
   "outputs": [
    {
     "data": {
      "text/html": [
       "<div>\n",
       "<style scoped>\n",
       "    .dataframe tbody tr th:only-of-type {\n",
       "        vertical-align: middle;\n",
       "    }\n",
       "\n",
       "    .dataframe tbody tr th {\n",
       "        vertical-align: top;\n",
       "    }\n",
       "\n",
       "    .dataframe thead th {\n",
       "        text-align: right;\n",
       "    }\n",
       "</style>\n",
       "<table border=\"1\" class=\"dataframe\">\n",
       "  <thead>\n",
       "    <tr style=\"text-align: right;\">\n",
       "      <th></th>\n",
       "      <th>base_currency</th>\n",
       "      <th>counter_currency</th>\n",
       "      <th>amount</th>\n",
       "    </tr>\n",
       "  </thead>\n",
       "  <tbody>\n",
       "    <tr>\n",
       "      <th>0</th>\n",
       "      <td>USD</td>\n",
       "      <td>XRP</td>\n",
       "      <td>163878.1501577777</td>\n",
       "    </tr>\n",
       "    <tr>\n",
       "      <th>1</th>\n",
       "      <td>BTC</td>\n",
       "      <td>XRP</td>\n",
       "      <td>12.668209469173757</td>\n",
       "    </tr>\n",
       "    <tr>\n",
       "      <th>2</th>\n",
       "      <td>EUR</td>\n",
       "      <td>XRP</td>\n",
       "      <td>43687.892872592674</td>\n",
       "    </tr>\n",
       "    <tr>\n",
       "      <th>3</th>\n",
       "      <td>CNY</td>\n",
       "      <td>XRP</td>\n",
       "      <td>324999.1837979492</td>\n",
       "    </tr>\n",
       "    <tr>\n",
       "      <th>4</th>\n",
       "      <td>CNY</td>\n",
       "      <td>XRP</td>\n",
       "      <td>212180.58695550624</td>\n",
       "    </tr>\n",
       "    <tr>\n",
       "      <th>5</th>\n",
       "      <td>CNY</td>\n",
       "      <td>CNY</td>\n",
       "      <td>116642.82071689889</td>\n",
       "    </tr>\n",
       "    <tr>\n",
       "      <th>6</th>\n",
       "      <td>USD</td>\n",
       "      <td>XRP</td>\n",
       "      <td>16174.432046301446</td>\n",
       "    </tr>\n",
       "    <tr>\n",
       "      <th>7</th>\n",
       "      <td>ULT</td>\n",
       "      <td>XRP</td>\n",
       "      <td>322860.69044149516</td>\n",
       "    </tr>\n",
       "    <tr>\n",
       "      <th>8</th>\n",
       "      <td>CNY</td>\n",
       "      <td>USD</td>\n",
       "      <td>43983.06345129577</td>\n",
       "    </tr>\n",
       "    <tr>\n",
       "      <th>9</th>\n",
       "      <td>CNY</td>\n",
       "      <td>ULT</td>\n",
       "      <td>39197.010248393104</td>\n",
       "    </tr>\n",
       "    <tr>\n",
       "      <th>10</th>\n",
       "      <td>XLM</td>\n",
       "      <td>XRP</td>\n",
       "      <td>47291.23734008677</td>\n",
       "    </tr>\n",
       "    <tr>\n",
       "      <th>11</th>\n",
       "      <td>ETH</td>\n",
       "      <td>XRP</td>\n",
       "      <td>8.342746525740651</td>\n",
       "    </tr>\n",
       "    <tr>\n",
       "      <th>12</th>\n",
       "      <td>EUR</td>\n",
       "      <td>USD</td>\n",
       "      <td>831.350634277238</td>\n",
       "    </tr>\n",
       "    <tr>\n",
       "      <th>13</th>\n",
       "      <td>USD</td>\n",
       "      <td>USD</td>\n",
       "      <td>577.0191171175542</td>\n",
       "    </tr>\n",
       "    <tr>\n",
       "      <th>14</th>\n",
       "      <td>CNY</td>\n",
       "      <td>XLM</td>\n",
       "      <td>2908.71651529932</td>\n",
       "    </tr>\n",
       "    <tr>\n",
       "      <th>15</th>\n",
       "      <td>BTC</td>\n",
       "      <td>XRP</td>\n",
       "      <td>0.03661178146840571</td>\n",
       "    </tr>\n",
       "    <tr>\n",
       "      <th>16</th>\n",
       "      <td>CNY</td>\n",
       "      <td>EUR</td>\n",
       "      <td>516.2455666652197</td>\n",
       "    </tr>\n",
       "    <tr>\n",
       "      <th>17</th>\n",
       "      <td>BTC</td>\n",
       "      <td>USD</td>\n",
       "      <td>0.00195010722</td>\n",
       "    </tr>\n",
       "  </tbody>\n",
       "</table>\n",
       "</div>"
      ],
      "text/plain": [
       "   base_currency counter_currency               amount\n",
       "0            USD              XRP    163878.1501577777\n",
       "1            BTC              XRP   12.668209469173757\n",
       "2            EUR              XRP   43687.892872592674\n",
       "3            CNY              XRP    324999.1837979492\n",
       "4            CNY              XRP   212180.58695550624\n",
       "5            CNY              CNY   116642.82071689889\n",
       "6            USD              XRP   16174.432046301446\n",
       "7            ULT              XRP   322860.69044149516\n",
       "8            CNY              USD    43983.06345129577\n",
       "9            CNY              ULT   39197.010248393104\n",
       "10           XLM              XRP    47291.23734008677\n",
       "11           ETH              XRP    8.342746525740651\n",
       "12           EUR              USD     831.350634277238\n",
       "13           USD              USD    577.0191171175542\n",
       "14           CNY              XLM     2908.71651529932\n",
       "15           BTC              XRP  0.03661178146840571\n",
       "16           CNY              EUR    516.2455666652197\n",
       "17           BTC              USD        0.00195010722"
      ]
     },
     "execution_count": 7,
     "metadata": {},
     "output_type": "execute_result"
    }
   ],
   "source": [
    "df_trade_volume"
   ]
  },
  {
   "cell_type": "code",
   "execution_count": 8,
   "metadata": {},
   "outputs": [],
   "source": [
    "df_trade_volume['amount'] = df_trade_volume['amount'].astype('float')"
   ]
  },
  {
   "cell_type": "code",
   "execution_count": 9,
   "metadata": {},
   "outputs": [],
   "source": [
    "#grouping values by base currenvy and counter currency (we will show the total trade considering all exchanges)\n",
    "df_trade_volume = df_trade_volume.groupby(['base_currency','counter_currency'])['amount'].agg('sum').to_frame('total_amount') \\\n",
    "                                                                                                    .reset_index()"
   ]
  },
  {
   "cell_type": "code",
   "execution_count": 10,
   "metadata": {},
   "outputs": [],
   "source": [
    "df_trade_volume['trade_currencies'] = df_trade_volume[\"base_currency\"] + \"/\" + df_trade_volume[\"counter_currency\"]"
   ]
  },
  {
   "cell_type": "code",
   "execution_count": 11,
   "metadata": {},
   "outputs": [],
   "source": [
    "df_trade_volume.drop(columns=[\"base_currency\",\"counter_currency\"], inplace=True)"
   ]
  },
  {
   "cell_type": "code",
   "execution_count": 12,
   "metadata": {},
   "outputs": [
    {
     "data": {
      "text/html": [
       "<div>\n",
       "<style scoped>\n",
       "    .dataframe tbody tr th:only-of-type {\n",
       "        vertical-align: middle;\n",
       "    }\n",
       "\n",
       "    .dataframe tbody tr th {\n",
       "        vertical-align: top;\n",
       "    }\n",
       "\n",
       "    .dataframe thead th {\n",
       "        text-align: right;\n",
       "    }\n",
       "</style>\n",
       "<table border=\"1\" class=\"dataframe\">\n",
       "  <thead>\n",
       "    <tr style=\"text-align: right;\">\n",
       "      <th></th>\n",
       "      <th>total_amount</th>\n",
       "      <th>trade_currencies</th>\n",
       "    </tr>\n",
       "  </thead>\n",
       "  <tbody>\n",
       "    <tr>\n",
       "      <th>0</th>\n",
       "      <td>0.001950</td>\n",
       "      <td>BTC/USD</td>\n",
       "    </tr>\n",
       "    <tr>\n",
       "      <th>1</th>\n",
       "      <td>12.704821</td>\n",
       "      <td>BTC/XRP</td>\n",
       "    </tr>\n",
       "    <tr>\n",
       "      <th>2</th>\n",
       "      <td>116642.820717</td>\n",
       "      <td>CNY/CNY</td>\n",
       "    </tr>\n",
       "    <tr>\n",
       "      <th>3</th>\n",
       "      <td>516.245567</td>\n",
       "      <td>CNY/EUR</td>\n",
       "    </tr>\n",
       "    <tr>\n",
       "      <th>4</th>\n",
       "      <td>39197.010248</td>\n",
       "      <td>CNY/ULT</td>\n",
       "    </tr>\n",
       "    <tr>\n",
       "      <th>5</th>\n",
       "      <td>43983.063451</td>\n",
       "      <td>CNY/USD</td>\n",
       "    </tr>\n",
       "    <tr>\n",
       "      <th>6</th>\n",
       "      <td>2908.716515</td>\n",
       "      <td>CNY/XLM</td>\n",
       "    </tr>\n",
       "    <tr>\n",
       "      <th>7</th>\n",
       "      <td>537179.770753</td>\n",
       "      <td>CNY/XRP</td>\n",
       "    </tr>\n",
       "    <tr>\n",
       "      <th>8</th>\n",
       "      <td>8.342747</td>\n",
       "      <td>ETH/XRP</td>\n",
       "    </tr>\n",
       "    <tr>\n",
       "      <th>9</th>\n",
       "      <td>831.350634</td>\n",
       "      <td>EUR/USD</td>\n",
       "    </tr>\n",
       "    <tr>\n",
       "      <th>10</th>\n",
       "      <td>43687.892873</td>\n",
       "      <td>EUR/XRP</td>\n",
       "    </tr>\n",
       "    <tr>\n",
       "      <th>11</th>\n",
       "      <td>322860.690441</td>\n",
       "      <td>ULT/XRP</td>\n",
       "    </tr>\n",
       "    <tr>\n",
       "      <th>12</th>\n",
       "      <td>577.019117</td>\n",
       "      <td>USD/USD</td>\n",
       "    </tr>\n",
       "    <tr>\n",
       "      <th>13</th>\n",
       "      <td>180052.582204</td>\n",
       "      <td>USD/XRP</td>\n",
       "    </tr>\n",
       "    <tr>\n",
       "      <th>14</th>\n",
       "      <td>47291.237340</td>\n",
       "      <td>XLM/XRP</td>\n",
       "    </tr>\n",
       "  </tbody>\n",
       "</table>\n",
       "</div>"
      ],
      "text/plain": [
       "     total_amount trade_currencies\n",
       "0        0.001950          BTC/USD\n",
       "1       12.704821          BTC/XRP\n",
       "2   116642.820717          CNY/CNY\n",
       "3      516.245567          CNY/EUR\n",
       "4    39197.010248          CNY/ULT\n",
       "5    43983.063451          CNY/USD\n",
       "6     2908.716515          CNY/XLM\n",
       "7   537179.770753          CNY/XRP\n",
       "8        8.342747          ETH/XRP\n",
       "9      831.350634          EUR/USD\n",
       "10   43687.892873          EUR/XRP\n",
       "11  322860.690441          ULT/XRP\n",
       "12     577.019117          USD/USD\n",
       "13  180052.582204          USD/XRP\n",
       "14   47291.237340          XLM/XRP"
      ]
     },
     "execution_count": 12,
     "metadata": {},
     "output_type": "execute_result"
    }
   ],
   "source": [
    "df_trade_volume"
   ]
  },
  {
   "cell_type": "code",
   "execution_count": 58,
   "metadata": {},
   "outputs": [
    {
     "data": {
      "image/png": "[encoded data removed]",
      "text/plain": [
       "<Figure size 576x576 with 1 Axes>"
      ]
     },
     "metadata": {},
     "output_type": "display_data"
    }
   ],
   "source": [
    "#function for disconsider to show % on the chart for low values\n",
    "def my_autopct(pct):\n",
    "    return ('%.2f%%' % pct) if pct > 5 else ''\n",
    "\n",
    "#excluding some law values from the dataframe (they are really hard to see)\n",
    "df_trade_volume = df_trade_volume.drop(index = df_trade_volume[df_trade_volume.total_amount < 9].index)\n",
    "\n",
    "series = pd.Series(df_trade_volume['total_amount'].values, index=df_trade_volume['trade_currencies'], \n",
    "                   name='')\n",
    "series.plot.pie(autopct=my_autopct, figsize=(8,8))\n",
    "\n",
    "plt.title('Trade Volume')\n",
    "plt.tight_layout()\n",
    "plt.show()"
   ]
  },
  {
   "cell_type": "markdown",
   "metadata": {},
   "source": [
    "<div class=\"alert alert-block alert-info\">\n",
    "<b>Trade Volume:</b> We can see by the graph and table above that 30.93% of all exchange are between USD and XRP,\n",
    "    folowed by CNY (Chinese Yuan) and XRP. \n",
    "</div>"
   ]
  },
  {
   "cell_type": "markdown",
   "metadata": {},
   "source": [
    "### XRP Distribution"
   ]
  },
  {
   "cell_type": "code",
   "execution_count": 14,
   "metadata": {},
   "outputs": [],
   "source": [
    "xrp_dist_row = api.get_xrp_distribution()\n",
    "df_xrp_dist = pd.DataFrame.from_dict(xrp_dist_row['rows'], orient='columns')"
   ]
  },
  {
   "cell_type": "code",
   "execution_count": 15,
   "metadata": {},
   "outputs": [],
   "source": [
    "df_xrp_dist['year'] = df_xrp_dist['date'].str.slice(0,4)\n",
    "df_xrp_dist['month'] = df_xrp_dist['date'].str.slice(5,7)\n",
    "df_xrp_dist['day'] = df_xrp_dist['date'].str.slice(8,10)"
   ]
  },
  {
   "cell_type": "code",
   "execution_count": 16,
   "metadata": {},
   "outputs": [],
   "source": [
    "df_xrp_dist = df_xrp_dist.drop(columns=['date'])"
   ]
  },
  {
   "cell_type": "code",
   "execution_count": 17,
   "metadata": {},
   "outputs": [
    {
     "data": {
      "text/html": [
       "<div>\n",
       "<style scoped>\n",
       "    .dataframe tbody tr th:only-of-type {\n",
       "        vertical-align: middle;\n",
       "    }\n",
       "\n",
       "    .dataframe tbody tr th {\n",
       "        vertical-align: top;\n",
       "    }\n",
       "\n",
       "    .dataframe thead th {\n",
       "        text-align: right;\n",
       "    }\n",
       "</style>\n",
       "<table border=\"1\" class=\"dataframe\">\n",
       "  <thead>\n",
       "    <tr style=\"text-align: right;\">\n",
       "      <th></th>\n",
       "      <th>total</th>\n",
       "      <th>distributed</th>\n",
       "      <th>undistributed</th>\n",
       "      <th>escrowed</th>\n",
       "      <th>year</th>\n",
       "      <th>month</th>\n",
       "      <th>day</th>\n",
       "    </tr>\n",
       "  </thead>\n",
       "  <tbody>\n",
       "    <tr>\n",
       "      <th>0</th>\n",
       "      <td>99997364318</td>\n",
       "      <td>35108326973</td>\n",
       "      <td>64889037345</td>\n",
       "      <td>NaN</td>\n",
       "      <td>2016</td>\n",
       "      <td>06</td>\n",
       "      <td>05</td>\n",
       "    </tr>\n",
       "    <tr>\n",
       "      <th>1</th>\n",
       "      <td>99997344164</td>\n",
       "      <td>35108308819</td>\n",
       "      <td>64889035345</td>\n",
       "      <td>NaN</td>\n",
       "      <td>2016</td>\n",
       "      <td>06</td>\n",
       "      <td>12</td>\n",
       "    </tr>\n",
       "    <tr>\n",
       "      <th>2</th>\n",
       "      <td>99997334029</td>\n",
       "      <td>35345983560</td>\n",
       "      <td>64651350469</td>\n",
       "      <td>NaN</td>\n",
       "      <td>2016</td>\n",
       "      <td>06</td>\n",
       "      <td>19</td>\n",
       "    </tr>\n",
       "    <tr>\n",
       "      <th>3</th>\n",
       "      <td>99997322412</td>\n",
       "      <td>35345971933</td>\n",
       "      <td>64651350479</td>\n",
       "      <td>NaN</td>\n",
       "      <td>2016</td>\n",
       "      <td>06</td>\n",
       "      <td>26</td>\n",
       "    </tr>\n",
       "    <tr>\n",
       "      <th>4</th>\n",
       "      <td>99997309184</td>\n",
       "      <td>35438268570</td>\n",
       "      <td>64559040613</td>\n",
       "      <td>NaN</td>\n",
       "      <td>2016</td>\n",
       "      <td>07</td>\n",
       "      <td>03</td>\n",
       "    </tr>\n",
       "    <tr>\n",
       "      <th>...</th>\n",
       "      <td>...</td>\n",
       "      <td>...</td>\n",
       "      <td>...</td>\n",
       "      <td>...</td>\n",
       "      <td>...</td>\n",
       "      <td>...</td>\n",
       "      <td>...</td>\n",
       "    </tr>\n",
       "    <tr>\n",
       "      <th>172</th>\n",
       "      <td>99991321535</td>\n",
       "      <td>43242653330</td>\n",
       "      <td>6748668193</td>\n",
       "      <td>50000000013</td>\n",
       "      <td>2019</td>\n",
       "      <td>10</td>\n",
       "      <td>13</td>\n",
       "    </tr>\n",
       "    <tr>\n",
       "      <th>173</th>\n",
       "      <td>99991316762</td>\n",
       "      <td>43248091671</td>\n",
       "      <td>6743225077</td>\n",
       "      <td>50000000013</td>\n",
       "      <td>2019</td>\n",
       "      <td>10</td>\n",
       "      <td>20</td>\n",
       "    </tr>\n",
       "    <tr>\n",
       "      <th>174</th>\n",
       "      <td>99991308084</td>\n",
       "      <td>43268247816</td>\n",
       "      <td>6723060255</td>\n",
       "      <td>50000000013</td>\n",
       "      <td>2019</td>\n",
       "      <td>10</td>\n",
       "      <td>27</td>\n",
       "    </tr>\n",
       "    <tr>\n",
       "      <th>175</th>\n",
       "      <td>99991298961</td>\n",
       "      <td>43298481757</td>\n",
       "      <td>6792817191</td>\n",
       "      <td>49900000013</td>\n",
       "      <td>2019</td>\n",
       "      <td>11</td>\n",
       "      <td>03</td>\n",
       "    </tr>\n",
       "    <tr>\n",
       "      <th>176</th>\n",
       "      <td>99991280558</td>\n",
       "      <td>43299885509</td>\n",
       "      <td>6791395036</td>\n",
       "      <td>49900000013</td>\n",
       "      <td>2019</td>\n",
       "      <td>11</td>\n",
       "      <td>10</td>\n",
       "    </tr>\n",
       "  </tbody>\n",
       "</table>\n",
       "<p>177 rows × 7 columns</p>\n",
       "</div>"
      ],
      "text/plain": [
       "           total  distributed undistributed     escrowed  year month day\n",
       "0    99997364318  35108326973   64889037345          NaN  2016    06  05\n",
       "1    99997344164  35108308819   64889035345          NaN  2016    06  12\n",
       "2    99997334029  35345983560   64651350469          NaN  2016    06  19\n",
       "3    99997322412  35345971933   64651350479          NaN  2016    06  26\n",
       "4    99997309184  35438268570   64559040613          NaN  2016    07  03\n",
       "..           ...          ...           ...          ...   ...   ...  ..\n",
       "172  99991321535  43242653330    6748668193  50000000013  2019    10  13\n",
       "173  99991316762  43248091671    6743225077  50000000013  2019    10  20\n",
       "174  99991308084  43268247816    6723060255  50000000013  2019    10  27\n",
       "175  99991298961  43298481757    6792817191  49900000013  2019    11  03\n",
       "176  99991280558  43299885509    6791395036  49900000013  2019    11  10\n",
       "\n",
       "[177 rows x 7 columns]"
      ]
     },
     "execution_count": 17,
     "metadata": {},
     "output_type": "execute_result"
    }
   ],
   "source": [
    "df_xrp_dist"
   ]
  },
  {
   "cell_type": "code",
   "execution_count": 18,
   "metadata": {},
   "outputs": [],
   "source": [
    "group_day_max = df_xrp_dist.groupby(['year','month'])['day'].agg('max').to_frame('max_day').reset_index()\n",
    "df_xrp_dist = df_xrp_dist.merge(group_day_max, left_on=['year','month','day'], right_on=['year','month','max_day'])\n",
    "\n",
    "df_xrp_dist['date'] = df_xrp_dist['year'] + \"-\" + df_xrp_dist['month']\n",
    "\n",
    "df_xrp_dist.drop(columns=['max_day','year','month','day'], inplace=True)"
   ]
  },
  {
   "cell_type": "code",
   "execution_count": 19,
   "metadata": {},
   "outputs": [
    {
     "data": {
      "text/html": [
       "<div>\n",
       "<style scoped>\n",
       "    .dataframe tbody tr th:only-of-type {\n",
       "        vertical-align: middle;\n",
       "    }\n",
       "\n",
       "    .dataframe tbody tr th {\n",
       "        vertical-align: top;\n",
       "    }\n",
       "\n",
       "    .dataframe thead th {\n",
       "        text-align: right;\n",
       "    }\n",
       "</style>\n",
       "<table border=\"1\" class=\"dataframe\">\n",
       "  <thead>\n",
       "    <tr style=\"text-align: right;\">\n",
       "      <th></th>\n",
       "      <th>total</th>\n",
       "      <th>distributed</th>\n",
       "      <th>undistributed</th>\n",
       "      <th>escrowed</th>\n",
       "      <th>date</th>\n",
       "    </tr>\n",
       "  </thead>\n",
       "  <tbody>\n",
       "    <tr>\n",
       "      <th>0</th>\n",
       "      <td>99997322412</td>\n",
       "      <td>35345971933</td>\n",
       "      <td>64651350479</td>\n",
       "      <td>NaN</td>\n",
       "      <td>2016-06</td>\n",
       "    </tr>\n",
       "    <tr>\n",
       "      <th>1</th>\n",
       "      <td>99997268571</td>\n",
       "      <td>35557883251</td>\n",
       "      <td>64439385320</td>\n",
       "      <td>NaN</td>\n",
       "      <td>2016-07</td>\n",
       "    </tr>\n",
       "    <tr>\n",
       "      <th>2</th>\n",
       "      <td>99997213110</td>\n",
       "      <td>35316813001</td>\n",
       "      <td>64680400109</td>\n",
       "      <td>NaN</td>\n",
       "      <td>2016-08</td>\n",
       "    </tr>\n",
       "    <tr>\n",
       "      <th>3</th>\n",
       "      <td>99997179232</td>\n",
       "      <td>35475196836</td>\n",
       "      <td>64521982395</td>\n",
       "      <td>NaN</td>\n",
       "      <td>2016-09</td>\n",
       "    </tr>\n",
       "    <tr>\n",
       "      <th>4</th>\n",
       "      <td>99997006553</td>\n",
       "      <td>35649569539</td>\n",
       "      <td>64347437014</td>\n",
       "      <td>NaN</td>\n",
       "      <td>2016-10</td>\n",
       "    </tr>\n",
       "  </tbody>\n",
       "</table>\n",
       "</div>"
      ],
      "text/plain": [
       "         total  distributed undistributed escrowed     date\n",
       "0  99997322412  35345971933   64651350479      NaN  2016-06\n",
       "1  99997268571  35557883251   64439385320      NaN  2016-07\n",
       "2  99997213110  35316813001   64680400109      NaN  2016-08\n",
       "3  99997179232  35475196836   64521982395      NaN  2016-09\n",
       "4  99997006553  35649569539   64347437014      NaN  2016-10"
      ]
     },
     "execution_count": 19,
     "metadata": {},
     "output_type": "execute_result"
    }
   ],
   "source": [
    "df_xrp_dist.head()"
   ]
  },
  {
   "cell_type": "code",
   "execution_count": 20,
   "metadata": {},
   "outputs": [
    {
     "data": {
      "image/png": "[encoded data removed]",
      "text/plain": [
       "<Figure size 864x576 with 1 Axes>"
      ]
     },
     "metadata": {
      "needs_background": "light"
     },
     "output_type": "display_data"
    }
   ],
   "source": [
    "test = pd.DataFrame(df_xrp_dist[['distributed','undistributed']].values.astype('float'), index=df_xrp_dist['date'],\n",
    "             columns=['distributed','undistributed'])\n",
    "\n",
    "\n",
    "test.plot(figsize=(12,8))\n",
    "plt.tight_layout()\n",
    "plt.title('Distribution of XRP')\n",
    "plt.show()"
   ]
  },
  {
   "cell_type": "markdown",
   "metadata": {},
   "source": [
    "<div class=\"alert alert-block alert-info\">\n",
    "<b>XRP Distribution:</b> The big drop of undistributed XRP in 2017-12 is due to Ripple pacing 55 billion XRP in a escrow account. More information on this: \n",
    "    <a href=\"https://ripple.com/insights/ripple-escrows-55-billion-xrp-for-supply-predictability/\">Ripple Escrows 55 Billion XRP for Supply Predictability</a>\n",
    "</div>"
   ]
  },
  {
   "cell_type": "markdown",
   "metadata": {},
   "source": [
    "### Payment Volume by Currency"
   ]
  },
  {
   "cell_type": "code",
   "execution_count": 79,
   "metadata": {
    "scrolled": false
   },
   "outputs": [
    {
     "data": {
      "text/html": [
       "<div>\n",
       "<style scoped>\n",
       "    .dataframe tbody tr th:only-of-type {\n",
       "        vertical-align: middle;\n",
       "    }\n",
       "\n",
       "    .dataframe tbody tr th {\n",
       "        vertical-align: top;\n",
       "    }\n",
       "\n",
       "    .dataframe thead th {\n",
       "        text-align: right;\n",
       "    }\n",
       "</style>\n",
       "<table border=\"1\" class=\"dataframe\">\n",
       "  <thead>\n",
       "    <tr style=\"text-align: right;\">\n",
       "      <th></th>\n",
       "      <th>currency</th>\n",
       "      <th>amount</th>\n",
       "      <th>count</th>\n",
       "      <th>rate</th>\n",
       "      <th>converted_amount</th>\n",
       "      <th>issuer</th>\n",
       "    </tr>\n",
       "  </thead>\n",
       "  <tbody>\n",
       "    <tr>\n",
       "      <th>0</th>\n",
       "      <td>XRP</td>\n",
       "      <td>218648958.83490846</td>\n",
       "      <td>43061</td>\n",
       "      <td>1.0000000</td>\n",
       "      <td>218648958.83490846</td>\n",
       "      <td>NaN</td>\n",
       "    </tr>\n",
       "    <tr>\n",
       "      <th>1</th>\n",
       "      <td>USD</td>\n",
       "      <td>675253.1286309264</td>\n",
       "      <td>21</td>\n",
       "      <td>0.21287649</td>\n",
       "      <td>3172041.84143018</td>\n",
       "      <td>rvYAfWj5gh67oV6fW32ZzP3Aw4Eubs59B</td>\n",
       "    </tr>\n",
       "    <tr>\n",
       "      <th>2</th>\n",
       "      <td>CNY</td>\n",
       "      <td>396793</td>\n",
       "      <td>6</td>\n",
       "      <td>1.5694503</td>\n",
       "      <td>252822.9227141825</td>\n",
       "      <td>razqQKzJRdB4UxFPWf5NEpEG3WMkmwgcXA</td>\n",
       "    </tr>\n",
       "    <tr>\n",
       "      <th>3</th>\n",
       "      <td>EUR</td>\n",
       "      <td>18176.14</td>\n",
       "      <td>25</td>\n",
       "      <td>0.20362967</td>\n",
       "      <td>89260.76433275781</td>\n",
       "      <td>rhub8VRN55s94qWKDv6jmDy1pUykJzF3wq</td>\n",
       "    </tr>\n",
       "    <tr>\n",
       "      <th>4</th>\n",
       "      <td>BTC</td>\n",
       "      <td>2.0842</td>\n",
       "      <td>8</td>\n",
       "      <td>0.000030085205</td>\n",
       "      <td>69276.57547770868</td>\n",
       "      <td>rchGBxcD1A1C2tdxF6papQYZ8kjRKMYcL</td>\n",
       "    </tr>\n",
       "    <tr>\n",
       "      <th>5</th>\n",
       "      <td>CNY</td>\n",
       "      <td>95090</td>\n",
       "      <td>3</td>\n",
       "      <td>1.5774980</td>\n",
       "      <td>60278.99975859786</td>\n",
       "      <td>rKiCet8SdvWxPXnAgYarFUXMh1zCPz432Y</td>\n",
       "    </tr>\n",
       "    <tr>\n",
       "      <th>6</th>\n",
       "      <td>ETH</td>\n",
       "      <td>3.7102565461874297</td>\n",
       "      <td>3</td>\n",
       "      <td>0.0014513506</td>\n",
       "      <td>2556.416480382721</td>\n",
       "      <td>rcA8X3TVMST1n3CJeAdGk1RdRCHii7N2h</td>\n",
       "    </tr>\n",
       "    <tr>\n",
       "      <th>7</th>\n",
       "      <td>USD</td>\n",
       "      <td>100</td>\n",
       "      <td>1</td>\n",
       "      <td>0.22590536</td>\n",
       "      <td>442.6632545724249</td>\n",
       "      <td>rhub8VRN55s94qWKDv6jmDy1pUykJzF3wq</td>\n",
       "    </tr>\n",
       "  </tbody>\n",
       "</table>\n",
       "</div>"
      ],
      "text/plain": [
       "  currency              amount  count            rate    converted_amount  \\\n",
       "0      XRP  218648958.83490846  43061       1.0000000  218648958.83490846   \n",
       "1      USD   675253.1286309264     21      0.21287649    3172041.84143018   \n",
       "2      CNY              396793      6       1.5694503   252822.9227141825   \n",
       "3      EUR            18176.14     25      0.20362967   89260.76433275781   \n",
       "4      BTC              2.0842      8  0.000030085205   69276.57547770868   \n",
       "5      CNY               95090      3       1.5774980   60278.99975859786   \n",
       "6      ETH  3.7102565461874297      3    0.0014513506   2556.416480382721   \n",
       "7      USD                 100      1      0.22590536   442.6632545724249   \n",
       "\n",
       "                               issuer  \n",
       "0                                 NaN  \n",
       "1   rvYAfWj5gh67oV6fW32ZzP3Aw4Eubs59B  \n",
       "2  razqQKzJRdB4UxFPWf5NEpEG3WMkmwgcXA  \n",
       "3  rhub8VRN55s94qWKDv6jmDy1pUykJzF3wq  \n",
       "4   rchGBxcD1A1C2tdxF6papQYZ8kjRKMYcL  \n",
       "5  rKiCet8SdvWxPXnAgYarFUXMh1zCPz432Y  \n",
       "6   rcA8X3TVMST1n3CJeAdGk1RdRCHii7N2h  \n",
       "7  rhub8VRN55s94qWKDv6jmDy1pUykJzF3wq  "
      ]
     },
     "execution_count": 79,
     "metadata": {},
     "output_type": "execute_result"
    }
   ],
   "source": [
    "volume = api.get_payment_volume()\n",
    "\n",
    "df_volume = pd.DataFrame.from_dict(volume['rows'][0]['components'], orient='columns')\n",
    "df_volume"
   ]
  },
  {
   "cell_type": "code",
   "execution_count": 22,
   "metadata": {},
   "outputs": [],
   "source": [
    "df_volume['amount'] = df_volume['amount'].astype('float')"
   ]
  },
  {
   "cell_type": "code",
   "execution_count": 23,
   "metadata": {},
   "outputs": [],
   "source": [
    "#grouping values by currency (we will show the total volume considering all issuers)\n",
    "df_volume = df_volume.groupby(['currency'])['amount'].agg('sum').to_frame('total_amount').reset_index()"
   ]
  },
  {
   "cell_type": "code",
   "execution_count": 24,
   "metadata": {},
   "outputs": [
    {
     "data": {
      "text/html": [
       "<div>\n",
       "<style scoped>\n",
       "    .dataframe tbody tr th:only-of-type {\n",
       "        vertical-align: middle;\n",
       "    }\n",
       "\n",
       "    .dataframe tbody tr th {\n",
       "        vertical-align: top;\n",
       "    }\n",
       "\n",
       "    .dataframe thead th {\n",
       "        text-align: right;\n",
       "    }\n",
       "</style>\n",
       "<table border=\"1\" class=\"dataframe\">\n",
       "  <thead>\n",
       "    <tr style=\"text-align: right;\">\n",
       "      <th></th>\n",
       "      <th>currency</th>\n",
       "      <th>total_amount</th>\n",
       "    </tr>\n",
       "  </thead>\n",
       "  <tbody>\n",
       "    <tr>\n",
       "      <th>0</th>\n",
       "      <td>BTC</td>\n",
       "      <td>6.085200e+00</td>\n",
       "    </tr>\n",
       "    <tr>\n",
       "      <th>1</th>\n",
       "      <td>CNY</td>\n",
       "      <td>4.918830e+05</td>\n",
       "    </tr>\n",
       "    <tr>\n",
       "      <th>2</th>\n",
       "      <td>ETH</td>\n",
       "      <td>4.421381e+00</td>\n",
       "    </tr>\n",
       "    <tr>\n",
       "      <th>3</th>\n",
       "      <td>EUR</td>\n",
       "      <td>5.158654e+04</td>\n",
       "    </tr>\n",
       "    <tr>\n",
       "      <th>4</th>\n",
       "      <td>USD</td>\n",
       "      <td>6.793531e+05</td>\n",
       "    </tr>\n",
       "    <tr>\n",
       "      <th>5</th>\n",
       "      <td>XRP</td>\n",
       "      <td>2.323984e+08</td>\n",
       "    </tr>\n",
       "  </tbody>\n",
       "</table>\n",
       "</div>"
      ],
      "text/plain": [
       "  currency  total_amount\n",
       "0      BTC  6.085200e+00\n",
       "1      CNY  4.918830e+05\n",
       "2      ETH  4.421381e+00\n",
       "3      EUR  5.158654e+04\n",
       "4      USD  6.793531e+05\n",
       "5      XRP  2.323984e+08"
      ]
     },
     "execution_count": 24,
     "metadata": {},
     "output_type": "execute_result"
    }
   ],
   "source": [
    "df_volume"
   ]
  },
  {
   "cell_type": "code",
   "execution_count": 25,
   "metadata": {},
   "outputs": [
    {
     "data": {
      "image/png": "[encoded data removed]",
      "text/plain": [
       "<Figure size 576x576 with 1 Axes>"
      ]
     },
     "metadata": {},
     "output_type": "display_data"
    }
   ],
   "source": [
    "#function for disconsider to show % on the chart for low values\n",
    "def my_autopct(pct):\n",
    "    return ('%.2f%%' % pct) if pct > 5 else ''\n",
    "\n",
    "series = pd.Series(df_volume['total_amount'].values, index=df_volume['currency'], name='')\n",
    "series.plot.pie(labels=df_volume['currency'], autopct=my_autopct, figsize=(8,8))\n",
    "\n",
    "plt.title('Payment Volume by Currency')\n",
    "plt.tight_layout()\n",
    "plt.show()"
   ]
  },
  {
   "cell_type": "markdown",
   "metadata": {},
   "source": [
    "<div class=\"alert alert-block alert-info\">\n",
    "<b>Payment Volume:</b> We can see by the graph and table above that 99.83% of all payments are made in XRP. \n",
    "</div>"
   ]
  },
  {
   "cell_type": "markdown",
   "metadata": {},
   "source": [
    "### Top Currencies - Based on the average number of daily payments"
   ]
  },
  {
   "cell_type": "code",
   "execution_count": 76,
   "metadata": {},
   "outputs": [],
   "source": [
    "top_currencies = api.get_top_currencies()\n",
    "\n",
    "df_top_currencies = pd.DataFrame.from_dict(top_currencies['currencies'], orient='columns')"
   ]
  },
  {
   "cell_type": "code",
   "execution_count": 39,
   "metadata": {},
   "outputs": [],
   "source": [
    "df_top_currencies['avg_payment_count'] = df_top_currencies['avg_payment_count'].astype('float')"
   ]
  },
  {
   "cell_type": "code",
   "execution_count": 47,
   "metadata": {},
   "outputs": [],
   "source": [
    "#grouping the currencies - considering the total (not separating by issuer)\n",
    "total_num_payments = df_top_currencies.groupby('currency')['avg_payment_count'].agg('sum').to_frame('avg_payment_total') \\\n",
    "                                                                                          .reset_index()\n",
    "total_num_payments.sort_values('avg_payment_total', ascending = False, inplace=True)"
   ]
  },
  {
   "cell_type": "code",
   "execution_count": 48,
   "metadata": {},
   "outputs": [
    {
     "data": {
      "text/html": [
       "<div>\n",
       "<style scoped>\n",
       "    .dataframe tbody tr th:only-of-type {\n",
       "        vertical-align: middle;\n",
       "    }\n",
       "\n",
       "    .dataframe tbody tr th {\n",
       "        vertical-align: top;\n",
       "    }\n",
       "\n",
       "    .dataframe thead th {\n",
       "        text-align: right;\n",
       "    }\n",
       "</style>\n",
       "<table border=\"1\" class=\"dataframe\">\n",
       "  <thead>\n",
       "    <tr style=\"text-align: right;\">\n",
       "      <th></th>\n",
       "      <th>currency</th>\n",
       "      <th>avg_payment_total</th>\n",
       "    </tr>\n",
       "  </thead>\n",
       "  <tbody>\n",
       "    <tr>\n",
       "      <th>6</th>\n",
       "      <td>USD</td>\n",
       "      <td>116.635417</td>\n",
       "    </tr>\n",
       "    <tr>\n",
       "      <th>0</th>\n",
       "      <td>BTC</td>\n",
       "      <td>73.031250</td>\n",
       "    </tr>\n",
       "    <tr>\n",
       "      <th>1</th>\n",
       "      <td>CNY</td>\n",
       "      <td>43.935179</td>\n",
       "    </tr>\n",
       "    <tr>\n",
       "      <th>4</th>\n",
       "      <td>GMT</td>\n",
       "      <td>41.300000</td>\n",
       "    </tr>\n",
       "    <tr>\n",
       "      <th>3</th>\n",
       "      <td>EUR</td>\n",
       "      <td>24.687500</td>\n",
       "    </tr>\n",
       "  </tbody>\n",
       "</table>\n",
       "</div>"
      ],
      "text/plain": [
       "  currency  avg_payment_total\n",
       "6      USD         116.635417\n",
       "0      BTC          73.031250\n",
       "1      CNY          43.935179\n",
       "4      GMT          41.300000\n",
       "3      EUR          24.687500"
      ]
     },
     "execution_count": 48,
     "metadata": {},
     "output_type": "execute_result"
    }
   ],
   "source": [
    "total_num_payments.head()"
   ]
  },
  {
   "cell_type": "code",
   "execution_count": 51,
   "metadata": {},
   "outputs": [
    {
     "data": {
      "image/png": "[encoded data removed]",
      "text/plain": [
       "<Figure size 576x576 with 1 Axes>"
      ]
     },
     "metadata": {
      "needs_background": "light"
     },
     "output_type": "display_data"
    }
   ],
   "source": [
    "series = pd.Series(total_num_payments['avg_payment_total'].values, index=total_num_payments['currency'], name='')\n",
    "series.plot.bar(figsize=(8,8))\n",
    "\n",
    "plt.title('Top currencies by average number of daily payments')\n",
    "plt.tight_layout()\n",
    "plt.show()"
   ]
  },
  {
   "cell_type": "markdown",
   "metadata": {},
   "source": [
    "### Number of new accounts created"
   ]
  },
  {
   "cell_type": "code",
   "execution_count": 105,
   "metadata": {},
   "outputs": [
    {
     "name": "stdout",
     "output_type": "stream",
     "text": [
      "Number of new accounts created in November, 2019: 27000\n"
     ]
    }
   ],
   "source": [
    "params = dict(start='2019-11-01', end='2019-11-30', limit=1000)\n",
    "accounts = api.get_accounts(**params)\n",
    "\n",
    "count = 0\n",
    "    \n",
    "while 'marker' in accounts:\n",
    "    count = count + accounts['count']\n",
    "    param_marker = dict(marker=accounts['marker'],limit=1000)\n",
    "    accounts = api.get_accounts(**param_marker)\n",
    "\n",
    "print(f'Number of new accounts created in November, 2019: {count}')"
   ]
  },
  {
   "cell_type": "markdown",
   "metadata": {},
   "source": [
    "### Exchange rate overtime - CNY/XRP"
   ]
  },
  {
   "cell_type": "code",
   "execution_count": 160,
   "metadata": {},
   "outputs": [],
   "source": [
    "exchange_rate_df = pd.DataFrame('0',index=range(0,28),columns=['rate','date'])"
   ]
  },
  {
   "cell_type": "code",
   "execution_count": 163,
   "metadata": {},
   "outputs": [],
   "source": [
    "idx=0\n",
    "\n",
    "for i in range(1, 29):\n",
    "    date_string = '2019-11-' + str(i).zfill(2)\n",
    "    params = dict(date = date_string)\n",
    "    \n",
    "    exchange_rate_df.loc[idx]['date'] = date_string\n",
    "    exchange_rate_df.loc[idx]['rate'] = api.get_exchange_rates(base='CNY+rKiCet8SdvWxPXnAgYarFUXMh1zCPz432Y', counter='XRP', \n",
    "                                                      **params)['rate']    \n",
    "    \n",
    "    idx += 1"
   ]
  },
  {
   "cell_type": "code",
   "execution_count": 165,
   "metadata": {},
   "outputs": [
    {
     "data": {
      "image/png": "[encoded data removed]",
      "text/plain": [
       "<Figure size 864x576 with 1 Axes>"
      ]
     },
     "metadata": {
      "needs_background": "light"
     },
     "output_type": "display_data"
    }
   ],
   "source": [
    "exchange_rate = pd.DataFrame(exchange_rate_df[['rate']].values.astype('float'), index=exchange_rate_df['date'],\n",
    "             columns=['rate'])\n",
    "\n",
    "\n",
    "exchange_rate.plot(figsize=(12,8))\n",
    "plt.tight_layout()\n",
    "plt.title('Exchange Rate (CNY/XRP), November 2019')\n",
    "plt.show()"
   ]
  }
 ],
 "metadata": {
  "kernelspec": {
   "display_name": "Python 3",
   "language": "python",
   "name": "python3"
  },
  "language_info": {
   "codemirror_mode": {
    "name": "ipython",
    "version": 3
   },
   "file_extension": ".py",
   "mimetype": "text/x-python",
   "name": "python",
   "nbconvert_exporter": "python",
   "pygments_lexer": "ipython3",
   "version": "3.7.5"
  }
 },
 "nbformat": 4,
 "nbformat_minor": 2
}
