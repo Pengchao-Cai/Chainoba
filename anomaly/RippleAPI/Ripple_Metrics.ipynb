{
 "cells": [
  {
   "cell_type": "markdown",
   "metadata": {},
   "source": [
    "# COMP 7570 Project -  Ripple Metrics\n",
    "\n",
    "#### This Jupyter Notebook connects to the Ripple API and computes the following metrics:\n",
    "* Trade Volume\n",
    "* XRP Distribution\n",
    "* Payment Volume by Currency\n",
    "* Top Currencies\n",
    "* Number of new accounts created in November\n",
    "* Exchange rate over time between CNY and XRP"
   ]
  },
  {
   "cell_type": "code",
   "execution_count": 1,
   "metadata": {},
   "outputs": [],
   "source": [
    "import pandas as pd\n",
    "import matplotlib.pyplot as plt\n",
    "from data_api.ripple_data_api import RippleDataAPIClient"
   ]
  },
  {
   "cell_type": "code",
   "execution_count": 2,
   "metadata": {},
   "outputs": [],
   "source": [
    "api = RippleDataAPIClient('https://data.ripple.com')"
   ]
  },
  {
   "cell_type": "markdown",
   "metadata": {},
   "source": [
    "<div class=\"alert alert-block alert-info\">\n",
    "<b>API Documentation:</b> \n",
    "    <a href=\"https://xrpl.org/data-api.html\">Ripple API</a>\n",
    "</div>"
   ]
  },
  {
   "cell_type": "markdown",
   "metadata": {},
   "source": [
    "### Trade Volume"
   ]
  },
  {
   "cell_type": "code",
   "execution_count": 3,
   "metadata": {},
   "outputs": [],
   "source": [
    "trade_volume = api.get_exchange_volume()\n",
    "\n",
    "df_row_trade_volume = pd.DataFrame.from_dict(trade_volume['rows'][0]['components'], orient='columns')"
   ]
  },
  {
   "cell_type": "code",
   "execution_count": 4,
   "metadata": {},
   "outputs": [],
   "source": [
    "df_trade_volume = pd.DataFrame('0',index=range(0,len(df_row_trade_volume)),columns=['base_currency','counter_currency',\n",
    "                                                                                    'amount'])"
   ]
  },
  {
   "cell_type": "code",
   "execution_count": 5,
   "metadata": {},
   "outputs": [],
   "source": [
    "#parsing the json result to a dataframe\n",
    "for index,row in df_row_trade_volume.iterrows():    \n",
    "    df_trade_volume.iloc[index]['base_currency'] = row['base']['currency']\n",
    "    df_trade_volume.iloc[index]['counter_currency'] = row['counter']['currency']\n",
    "    df_trade_volume.iloc[index]['amount'] = row['amount']"
   ]
  },
  {
   "cell_type": "code",
   "execution_count": 6,
   "metadata": {},
   "outputs": [
    {
     "data": {
      "text/html": [
       "<div>\n",
       "<style scoped>\n",
       "    .dataframe tbody tr th:only-of-type {\n",
       "        vertical-align: middle;\n",
       "    }\n",
       "\n",
       "    .dataframe tbody tr th {\n",
       "        vertical-align: top;\n",
       "    }\n",
       "\n",
       "    .dataframe thead th {\n",
       "        text-align: right;\n",
       "    }\n",
       "</style>\n",
       "<table border=\"1\" class=\"dataframe\">\n",
       "  <thead>\n",
       "    <tr style=\"text-align: right;\">\n",
       "      <th></th>\n",
       "      <th>base_currency</th>\n",
       "      <th>counter_currency</th>\n",
       "      <th>amount</th>\n",
       "    </tr>\n",
       "  </thead>\n",
       "  <tbody>\n",
       "    <tr>\n",
       "      <th>0</th>\n",
       "      <td>USD</td>\n",
       "      <td>XRP</td>\n",
       "      <td>183242.7997492251</td>\n",
       "    </tr>\n",
       "    <tr>\n",
       "      <th>1</th>\n",
       "      <td>BTC</td>\n",
       "      <td>XRP</td>\n",
       "      <td>12.574009396554278</td>\n",
       "    </tr>\n",
       "    <tr>\n",
       "      <th>2</th>\n",
       "      <td>CNY</td>\n",
       "      <td>CNY</td>\n",
       "      <td>182501.54795344497</td>\n",
       "    </tr>\n",
       "    <tr>\n",
       "      <th>3</th>\n",
       "      <td>EUR</td>\n",
       "      <td>XRP</td>\n",
       "      <td>17719.496543861773</td>\n",
       "    </tr>\n",
       "    <tr>\n",
       "      <th>4</th>\n",
       "      <td>CNY</td>\n",
       "      <td>XRP</td>\n",
       "      <td>104382.59722004892</td>\n",
       "    </tr>\n",
       "    <tr>\n",
       "      <th>5</th>\n",
       "      <td>CNY</td>\n",
       "      <td>XRP</td>\n",
       "      <td>69668.98612834119</td>\n",
       "    </tr>\n",
       "    <tr>\n",
       "      <th>6</th>\n",
       "      <td>USD</td>\n",
       "      <td>XRP</td>\n",
       "      <td>6160.859946821069</td>\n",
       "    </tr>\n",
       "    <tr>\n",
       "      <th>7</th>\n",
       "      <td>CNY</td>\n",
       "      <td>USD</td>\n",
       "      <td>40210.70659022991</td>\n",
       "    </tr>\n",
       "    <tr>\n",
       "      <th>8</th>\n",
       "      <td>XLM</td>\n",
       "      <td>XRP</td>\n",
       "      <td>77476.92402112164</td>\n",
       "    </tr>\n",
       "    <tr>\n",
       "      <th>9</th>\n",
       "      <td>CNY</td>\n",
       "      <td>ULT</td>\n",
       "      <td>17459.948578874424</td>\n",
       "    </tr>\n",
       "    <tr>\n",
       "      <th>10</th>\n",
       "      <td>ULT</td>\n",
       "      <td>XRP</td>\n",
       "      <td>69538.26903872866</td>\n",
       "    </tr>\n",
       "    <tr>\n",
       "      <th>11</th>\n",
       "      <td>ETH</td>\n",
       "      <td>XRP</td>\n",
       "      <td>8.450978931360144</td>\n",
       "    </tr>\n",
       "    <tr>\n",
       "      <th>12</th>\n",
       "      <td>BTC</td>\n",
       "      <td>XRP</td>\n",
       "      <td>0.08831599190653638</td>\n",
       "    </tr>\n",
       "    <tr>\n",
       "      <th>13</th>\n",
       "      <td>EUR</td>\n",
       "      <td>USD</td>\n",
       "      <td>245.43397993142898</td>\n",
       "    </tr>\n",
       "    <tr>\n",
       "      <th>14</th>\n",
       "      <td>USD</td>\n",
       "      <td>USD</td>\n",
       "      <td>255.99029779319022</td>\n",
       "    </tr>\n",
       "    <tr>\n",
       "      <th>15</th>\n",
       "      <td>CNY</td>\n",
       "      <td>XLM</td>\n",
       "      <td>1823.5515412928792</td>\n",
       "    </tr>\n",
       "    <tr>\n",
       "      <th>16</th>\n",
       "      <td>CNY</td>\n",
       "      <td>EUR</td>\n",
       "      <td>268.02872003266</td>\n",
       "    </tr>\n",
       "  </tbody>\n",
       "</table>\n",
       "</div>"
      ],
      "text/plain": [
       "   base_currency counter_currency               amount\n",
       "0            USD              XRP    183242.7997492251\n",
       "1            BTC              XRP   12.574009396554278\n",
       "2            CNY              CNY   182501.54795344497\n",
       "3            EUR              XRP   17719.496543861773\n",
       "4            CNY              XRP   104382.59722004892\n",
       "5            CNY              XRP    69668.98612834119\n",
       "6            USD              XRP    6160.859946821069\n",
       "7            CNY              USD    40210.70659022991\n",
       "8            XLM              XRP    77476.92402112164\n",
       "9            CNY              ULT   17459.948578874424\n",
       "10           ULT              XRP    69538.26903872866\n",
       "11           ETH              XRP    8.450978931360144\n",
       "12           BTC              XRP  0.08831599190653638\n",
       "13           EUR              USD   245.43397993142898\n",
       "14           USD              USD   255.99029779319022\n",
       "15           CNY              XLM   1823.5515412928792\n",
       "16           CNY              EUR      268.02872003266"
      ]
     },
     "execution_count": 6,
     "metadata": {},
     "output_type": "execute_result"
    }
   ],
   "source": [
    "df_trade_volume"
   ]
  },
  {
   "cell_type": "code",
   "execution_count": 7,
   "metadata": {},
   "outputs": [],
   "source": [
    "df_trade_volume['amount'] = df_trade_volume['amount'].astype('float')"
   ]
  },
  {
   "cell_type": "code",
   "execution_count": 8,
   "metadata": {},
   "outputs": [],
   "source": [
    "#grouping values by base currency and counter currency (we will show the total trade considering all exchanges)\n",
    "df_trade_volume = df_trade_volume.groupby(['base_currency','counter_currency'])['amount'].agg('sum').to_frame('total_amount') \\\n",
    "                                                                                                    .reset_index()"
   ]
  },
  {
   "cell_type": "code",
   "execution_count": 9,
   "metadata": {},
   "outputs": [],
   "source": [
    "df_trade_volume['trade_currencies'] = df_trade_volume[\"base_currency\"] + \"/\" + df_trade_volume[\"counter_currency\"]"
   ]
  },
  {
   "cell_type": "code",
   "execution_count": 10,
   "metadata": {},
   "outputs": [],
   "source": [
    "df_trade_volume.drop(columns=[\"base_currency\",\"counter_currency\"], inplace=True)"
   ]
  },
  {
   "cell_type": "code",
   "execution_count": 11,
   "metadata": {},
   "outputs": [
    {
     "data": {
      "text/html": [
       "<div>\n",
       "<style scoped>\n",
       "    .dataframe tbody tr th:only-of-type {\n",
       "        vertical-align: middle;\n",
       "    }\n",
       "\n",
       "    .dataframe tbody tr th {\n",
       "        vertical-align: top;\n",
       "    }\n",
       "\n",
       "    .dataframe thead th {\n",
       "        text-align: right;\n",
       "    }\n",
       "</style>\n",
       "<table border=\"1\" class=\"dataframe\">\n",
       "  <thead>\n",
       "    <tr style=\"text-align: right;\">\n",
       "      <th></th>\n",
       "      <th>total_amount</th>\n",
       "      <th>trade_currencies</th>\n",
       "    </tr>\n",
       "  </thead>\n",
       "  <tbody>\n",
       "    <tr>\n",
       "      <th>0</th>\n",
       "      <td>12.662325</td>\n",
       "      <td>BTC/XRP</td>\n",
       "    </tr>\n",
       "    <tr>\n",
       "      <th>1</th>\n",
       "      <td>182501.547953</td>\n",
       "      <td>CNY/CNY</td>\n",
       "    </tr>\n",
       "    <tr>\n",
       "      <th>2</th>\n",
       "      <td>268.028720</td>\n",
       "      <td>CNY/EUR</td>\n",
       "    </tr>\n",
       "    <tr>\n",
       "      <th>3</th>\n",
       "      <td>17459.948579</td>\n",
       "      <td>CNY/ULT</td>\n",
       "    </tr>\n",
       "    <tr>\n",
       "      <th>4</th>\n",
       "      <td>40210.706590</td>\n",
       "      <td>CNY/USD</td>\n",
       "    </tr>\n",
       "    <tr>\n",
       "      <th>5</th>\n",
       "      <td>1823.551541</td>\n",
       "      <td>CNY/XLM</td>\n",
       "    </tr>\n",
       "    <tr>\n",
       "      <th>6</th>\n",
       "      <td>174051.583348</td>\n",
       "      <td>CNY/XRP</td>\n",
       "    </tr>\n",
       "    <tr>\n",
       "      <th>7</th>\n",
       "      <td>8.450979</td>\n",
       "      <td>ETH/XRP</td>\n",
       "    </tr>\n",
       "    <tr>\n",
       "      <th>8</th>\n",
       "      <td>245.433980</td>\n",
       "      <td>EUR/USD</td>\n",
       "    </tr>\n",
       "    <tr>\n",
       "      <th>9</th>\n",
       "      <td>17719.496544</td>\n",
       "      <td>EUR/XRP</td>\n",
       "    </tr>\n",
       "    <tr>\n",
       "      <th>10</th>\n",
       "      <td>69538.269039</td>\n",
       "      <td>ULT/XRP</td>\n",
       "    </tr>\n",
       "    <tr>\n",
       "      <th>11</th>\n",
       "      <td>255.990298</td>\n",
       "      <td>USD/USD</td>\n",
       "    </tr>\n",
       "    <tr>\n",
       "      <th>12</th>\n",
       "      <td>189403.659696</td>\n",
       "      <td>USD/XRP</td>\n",
       "    </tr>\n",
       "    <tr>\n",
       "      <th>13</th>\n",
       "      <td>77476.924021</td>\n",
       "      <td>XLM/XRP</td>\n",
       "    </tr>\n",
       "  </tbody>\n",
       "</table>\n",
       "</div>"
      ],
      "text/plain": [
       "     total_amount trade_currencies\n",
       "0       12.662325          BTC/XRP\n",
       "1   182501.547953          CNY/CNY\n",
       "2      268.028720          CNY/EUR\n",
       "3    17459.948579          CNY/ULT\n",
       "4    40210.706590          CNY/USD\n",
       "5     1823.551541          CNY/XLM\n",
       "6   174051.583348          CNY/XRP\n",
       "7        8.450979          ETH/XRP\n",
       "8      245.433980          EUR/USD\n",
       "9    17719.496544          EUR/XRP\n",
       "10   69538.269039          ULT/XRP\n",
       "11     255.990298          USD/USD\n",
       "12  189403.659696          USD/XRP\n",
       "13   77476.924021          XLM/XRP"
      ]
     },
     "execution_count": 11,
     "metadata": {},
     "output_type": "execute_result"
    }
   ],
   "source": [
    "df_trade_volume"
   ]
  },
  {
   "cell_type": "code",
   "execution_count": 12,
   "metadata": {},
   "outputs": [
    {
     "data": {
      "image/png": "[encoded data removed]",
      "text/plain": [
       "<Figure size 576x576 with 1 Axes>"
      ]
     },
     "metadata": {},
     "output_type": "display_data"
    }
   ],
   "source": [
    "#function for disconsidering % on the chart for low values\n",
    "def my_autopct(pct):\n",
    "    return ('%.2f%%' % pct) if pct > 5 else ''\n",
    "\n",
    "#excluding some law values from the dataframe (they are really hard to see)\n",
    "df_trade_volume = df_trade_volume.drop(index = df_trade_volume[df_trade_volume.total_amount < 9].index)\n",
    "\n",
    "series = pd.Series(df_trade_volume['total_amount'].values, index=df_trade_volume['trade_currencies'], \n",
    "                   name='')\n",
    "series.plot.pie(autopct=my_autopct, figsize=(8,8))\n",
    "\n",
    "plt.title('Trade Volume')\n",
    "plt.tight_layout()\n",
    "plt.show()"
   ]
  },
  {
   "cell_type": "markdown",
   "metadata": {},
   "source": [
    "<div class=\"alert alert-block alert-info\">\n",
    "<b>Trade Volume:</b> We can see by the chart and table above that 30.93% of all exchanges are between USD and XRP,\n",
    "    folowed by CNY (Chinese Yuan) and XRP. \n",
    "</div>"
   ]
  },
  {
   "cell_type": "markdown",
   "metadata": {},
   "source": [
    "### XRP Distribution"
   ]
  },
  {
   "cell_type": "code",
   "execution_count": 13,
   "metadata": {},
   "outputs": [],
   "source": [
    "xrp_dist_row = api.get_xrp_distribution()\n",
    "df_xrp_dist = pd.DataFrame.from_dict(xrp_dist_row['rows'], orient='columns')"
   ]
  },
  {
   "cell_type": "code",
   "execution_count": 14,
   "metadata": {},
   "outputs": [],
   "source": [
    "df_xrp_dist['year'] = df_xrp_dist['date'].str.slice(0,4)\n",
    "df_xrp_dist['month'] = df_xrp_dist['date'].str.slice(5,7)\n",
    "df_xrp_dist['day'] = df_xrp_dist['date'].str.slice(8,10)"
   ]
  },
  {
   "cell_type": "code",
   "execution_count": 15,
   "metadata": {},
   "outputs": [],
   "source": [
    "df_xrp_dist = df_xrp_dist.drop(columns=['date'])"
   ]
  },
  {
   "cell_type": "code",
   "execution_count": 16,
   "metadata": {},
   "outputs": [
    {
     "data": {
      "text/html": [
       "<div>\n",
       "<style scoped>\n",
       "    .dataframe tbody tr th:only-of-type {\n",
       "        vertical-align: middle;\n",
       "    }\n",
       "\n",
       "    .dataframe tbody tr th {\n",
       "        vertical-align: top;\n",
       "    }\n",
       "\n",
       "    .dataframe thead th {\n",
       "        text-align: right;\n",
       "    }\n",
       "</style>\n",
       "<table border=\"1\" class=\"dataframe\">\n",
       "  <thead>\n",
       "    <tr style=\"text-align: right;\">\n",
       "      <th></th>\n",
       "      <th>total</th>\n",
       "      <th>distributed</th>\n",
       "      <th>undistributed</th>\n",
       "      <th>escrowed</th>\n",
       "      <th>year</th>\n",
       "      <th>month</th>\n",
       "      <th>day</th>\n",
       "    </tr>\n",
       "  </thead>\n",
       "  <tbody>\n",
       "    <tr>\n",
       "      <th>0</th>\n",
       "      <td>99997364318</td>\n",
       "      <td>35108326973</td>\n",
       "      <td>64889037345</td>\n",
       "      <td>NaN</td>\n",
       "      <td>2016</td>\n",
       "      <td>06</td>\n",
       "      <td>05</td>\n",
       "    </tr>\n",
       "    <tr>\n",
       "      <th>1</th>\n",
       "      <td>99997344164</td>\n",
       "      <td>35108308819</td>\n",
       "      <td>64889035345</td>\n",
       "      <td>NaN</td>\n",
       "      <td>2016</td>\n",
       "      <td>06</td>\n",
       "      <td>12</td>\n",
       "    </tr>\n",
       "    <tr>\n",
       "      <th>2</th>\n",
       "      <td>99997334029</td>\n",
       "      <td>35345983560</td>\n",
       "      <td>64651350469</td>\n",
       "      <td>NaN</td>\n",
       "      <td>2016</td>\n",
       "      <td>06</td>\n",
       "      <td>19</td>\n",
       "    </tr>\n",
       "    <tr>\n",
       "      <th>3</th>\n",
       "      <td>99997322412</td>\n",
       "      <td>35345971933</td>\n",
       "      <td>64651350479</td>\n",
       "      <td>NaN</td>\n",
       "      <td>2016</td>\n",
       "      <td>06</td>\n",
       "      <td>26</td>\n",
       "    </tr>\n",
       "    <tr>\n",
       "      <th>4</th>\n",
       "      <td>99997309184</td>\n",
       "      <td>35438268570</td>\n",
       "      <td>64559040613</td>\n",
       "      <td>NaN</td>\n",
       "      <td>2016</td>\n",
       "      <td>07</td>\n",
       "      <td>03</td>\n",
       "    </tr>\n",
       "    <tr>\n",
       "      <th>...</th>\n",
       "      <td>...</td>\n",
       "      <td>...</td>\n",
       "      <td>...</td>\n",
       "      <td>...</td>\n",
       "      <td>...</td>\n",
       "      <td>...</td>\n",
       "      <td>...</td>\n",
       "    </tr>\n",
       "    <tr>\n",
       "      <th>174</th>\n",
       "      <td>99991308084</td>\n",
       "      <td>43268247816</td>\n",
       "      <td>6723060255</td>\n",
       "      <td>50000000013</td>\n",
       "      <td>2019</td>\n",
       "      <td>10</td>\n",
       "      <td>27</td>\n",
       "    </tr>\n",
       "    <tr>\n",
       "      <th>175</th>\n",
       "      <td>99991298961</td>\n",
       "      <td>43298481757</td>\n",
       "      <td>6792817191</td>\n",
       "      <td>49900000013</td>\n",
       "      <td>2019</td>\n",
       "      <td>11</td>\n",
       "      <td>03</td>\n",
       "    </tr>\n",
       "    <tr>\n",
       "      <th>176</th>\n",
       "      <td>99991280558</td>\n",
       "      <td>43299885509</td>\n",
       "      <td>6791395036</td>\n",
       "      <td>49900000013</td>\n",
       "      <td>2019</td>\n",
       "      <td>11</td>\n",
       "      <td>10</td>\n",
       "    </tr>\n",
       "    <tr>\n",
       "      <th>177</th>\n",
       "      <td>99991270310</td>\n",
       "      <td>43282591462</td>\n",
       "      <td>6808678835</td>\n",
       "      <td>49900000013</td>\n",
       "      <td>2019</td>\n",
       "      <td>11</td>\n",
       "      <td>17</td>\n",
       "    </tr>\n",
       "    <tr>\n",
       "      <th>178</th>\n",
       "      <td>99991237614</td>\n",
       "      <td>43285660917</td>\n",
       "      <td>6805576684</td>\n",
       "      <td>49900000013</td>\n",
       "      <td>2019</td>\n",
       "      <td>11</td>\n",
       "      <td>24</td>\n",
       "    </tr>\n",
       "  </tbody>\n",
       "</table>\n",
       "<p>179 rows × 7 columns</p>\n",
       "</div>"
      ],
      "text/plain": [
       "           total  distributed undistributed     escrowed  year month day\n",
       "0    99997364318  35108326973   64889037345          NaN  2016    06  05\n",
       "1    99997344164  35108308819   64889035345          NaN  2016    06  12\n",
       "2    99997334029  35345983560   64651350469          NaN  2016    06  19\n",
       "3    99997322412  35345971933   64651350479          NaN  2016    06  26\n",
       "4    99997309184  35438268570   64559040613          NaN  2016    07  03\n",
       "..           ...          ...           ...          ...   ...   ...  ..\n",
       "174  99991308084  43268247816    6723060255  50000000013  2019    10  27\n",
       "175  99991298961  43298481757    6792817191  49900000013  2019    11  03\n",
       "176  99991280558  43299885509    6791395036  49900000013  2019    11  10\n",
       "177  99991270310  43282591462    6808678835  49900000013  2019    11  17\n",
       "178  99991237614  43285660917    6805576684  49900000013  2019    11  24\n",
       "\n",
       "[179 rows x 7 columns]"
      ]
     },
     "execution_count": 16,
     "metadata": {},
     "output_type": "execute_result"
    }
   ],
   "source": [
    "df_xrp_dist"
   ]
  },
  {
   "cell_type": "code",
   "execution_count": 17,
   "metadata": {},
   "outputs": [],
   "source": [
    "#getting the latest day of each month\n",
    "group_day_max = df_xrp_dist.groupby(['year','month'])['day'].agg('max').to_frame('max_day').reset_index()\n",
    "df_xrp_dist = df_xrp_dist.merge(group_day_max, left_on=['year','month','day'], right_on=['year','month','max_day'])\n",
    "\n",
    "df_xrp_dist['date'] = df_xrp_dist['year'] + \"-\" + df_xrp_dist['month']\n",
    "\n",
    "df_xrp_dist.drop(columns=['max_day','year','month','day'], inplace=True)"
   ]
  },
  {
   "cell_type": "code",
   "execution_count": 18,
   "metadata": {},
   "outputs": [
    {
     "data": {
      "text/html": [
       "<div>\n",
       "<style scoped>\n",
       "    .dataframe tbody tr th:only-of-type {\n",
       "        vertical-align: middle;\n",
       "    }\n",
       "\n",
       "    .dataframe tbody tr th {\n",
       "        vertical-align: top;\n",
       "    }\n",
       "\n",
       "    .dataframe thead th {\n",
       "        text-align: right;\n",
       "    }\n",
       "</style>\n",
       "<table border=\"1\" class=\"dataframe\">\n",
       "  <thead>\n",
       "    <tr style=\"text-align: right;\">\n",
       "      <th></th>\n",
       "      <th>total</th>\n",
       "      <th>distributed</th>\n",
       "      <th>undistributed</th>\n",
       "      <th>escrowed</th>\n",
       "      <th>date</th>\n",
       "    </tr>\n",
       "  </thead>\n",
       "  <tbody>\n",
       "    <tr>\n",
       "      <th>0</th>\n",
       "      <td>99997322412</td>\n",
       "      <td>35345971933</td>\n",
       "      <td>64651350479</td>\n",
       "      <td>NaN</td>\n",
       "      <td>2016-06</td>\n",
       "    </tr>\n",
       "    <tr>\n",
       "      <th>1</th>\n",
       "      <td>99997268571</td>\n",
       "      <td>35557883251</td>\n",
       "      <td>64439385320</td>\n",
       "      <td>NaN</td>\n",
       "      <td>2016-07</td>\n",
       "    </tr>\n",
       "    <tr>\n",
       "      <th>2</th>\n",
       "      <td>99997213110</td>\n",
       "      <td>35316813001</td>\n",
       "      <td>64680400109</td>\n",
       "      <td>NaN</td>\n",
       "      <td>2016-08</td>\n",
       "    </tr>\n",
       "    <tr>\n",
       "      <th>3</th>\n",
       "      <td>99997179232</td>\n",
       "      <td>35475196836</td>\n",
       "      <td>64521982395</td>\n",
       "      <td>NaN</td>\n",
       "      <td>2016-09</td>\n",
       "    </tr>\n",
       "    <tr>\n",
       "      <th>4</th>\n",
       "      <td>99997006553</td>\n",
       "      <td>35649569539</td>\n",
       "      <td>64347437014</td>\n",
       "      <td>NaN</td>\n",
       "      <td>2016-10</td>\n",
       "    </tr>\n",
       "  </tbody>\n",
       "</table>\n",
       "</div>"
      ],
      "text/plain": [
       "         total  distributed undistributed escrowed     date\n",
       "0  99997322412  35345971933   64651350479      NaN  2016-06\n",
       "1  99997268571  35557883251   64439385320      NaN  2016-07\n",
       "2  99997213110  35316813001   64680400109      NaN  2016-08\n",
       "3  99997179232  35475196836   64521982395      NaN  2016-09\n",
       "4  99997006553  35649569539   64347437014      NaN  2016-10"
      ]
     },
     "execution_count": 18,
     "metadata": {},
     "output_type": "execute_result"
    }
   ],
   "source": [
    "df_xrp_dist.head()"
   ]
  },
  {
   "cell_type": "code",
   "execution_count": 19,
   "metadata": {},
   "outputs": [
    {
     "data": {
      "image/png": "[encoded data removed]",
      "text/plain": [
       "<Figure size 864x576 with 1 Axes>"
      ]
     },
     "metadata": {
      "needs_background": "light"
     },
     "output_type": "display_data"
    }
   ],
   "source": [
    "test = pd.DataFrame(df_xrp_dist[['distributed','undistributed']].values.astype('float'), index=df_xrp_dist['date'],\n",
    "             columns=['distributed','undistributed'])\n",
    "\n",
    "\n",
    "test.plot(figsize=(12,8))\n",
    "plt.tight_layout()\n",
    "plt.title('Distribution of XRP')\n",
    "plt.show()"
   ]
  },
  {
   "cell_type": "markdown",
   "metadata": {},
   "source": [
    "<div class=\"alert alert-block alert-info\">\n",
    "<b>XRP Distribution:</b> The big drop of undistributed XRP in 2017-12 is due to Ripple pacing 55 billion XRP in a escrow account. More information on this: \n",
    "    <a href=\"https://ripple.com/insights/ripple-escrows-55-billion-xrp-for-supply-predictability/\">Ripple Escrows 55 Billion XRP for Supply Predictability</a>\n",
    "</div>"
   ]
  },
  {
   "cell_type": "markdown",
   "metadata": {},
   "source": [
    "### Payment Volume by Currency"
   ]
  },
  {
   "cell_type": "code",
   "execution_count": 20,
   "metadata": {
    "scrolled": false
   },
   "outputs": [
    {
     "data": {
      "text/html": [
       "<div>\n",
       "<style scoped>\n",
       "    .dataframe tbody tr th:only-of-type {\n",
       "        vertical-align: middle;\n",
       "    }\n",
       "\n",
       "    .dataframe tbody tr th {\n",
       "        vertical-align: top;\n",
       "    }\n",
       "\n",
       "    .dataframe thead th {\n",
       "        text-align: right;\n",
       "    }\n",
       "</style>\n",
       "<table border=\"1\" class=\"dataframe\">\n",
       "  <thead>\n",
       "    <tr style=\"text-align: right;\">\n",
       "      <th></th>\n",
       "      <th>currency</th>\n",
       "      <th>amount</th>\n",
       "      <th>count</th>\n",
       "      <th>rate</th>\n",
       "      <th>converted_amount</th>\n",
       "      <th>issuer</th>\n",
       "    </tr>\n",
       "  </thead>\n",
       "  <tbody>\n",
       "    <tr>\n",
       "      <th>0</th>\n",
       "      <td>XRP</td>\n",
       "      <td>286137162.51703876</td>\n",
       "      <td>30019</td>\n",
       "      <td>1.0000000</td>\n",
       "      <td>286137162.51703876</td>\n",
       "      <td>NaN</td>\n",
       "    </tr>\n",
       "    <tr>\n",
       "      <th>1</th>\n",
       "      <td>USD</td>\n",
       "      <td>366451.1315321557</td>\n",
       "      <td>21</td>\n",
       "      <td>0.21045021</td>\n",
       "      <td>1741272.3729973938</td>\n",
       "      <td>rvYAfWj5gh67oV6fW32ZzP3Aw4Eubs59B</td>\n",
       "    </tr>\n",
       "    <tr>\n",
       "      <th>2</th>\n",
       "      <td>EUR</td>\n",
       "      <td>112366.67</td>\n",
       "      <td>19</td>\n",
       "      <td>0.19575460</td>\n",
       "      <td>574018.0393054141</td>\n",
       "      <td>rhub8VRN55s94qWKDv6jmDy1pUykJzF3wq</td>\n",
       "    </tr>\n",
       "    <tr>\n",
       "      <th>3</th>\n",
       "      <td>BTC</td>\n",
       "      <td>3.857164527453107</td>\n",
       "      <td>13</td>\n",
       "      <td>0.000029713202</td>\n",
       "      <td>129813.15640779426</td>\n",
       "      <td>rchGBxcD1A1C2tdxF6papQYZ8kjRKMYcL</td>\n",
       "    </tr>\n",
       "    <tr>\n",
       "      <th>4</th>\n",
       "      <td>CNY</td>\n",
       "      <td>113313</td>\n",
       "      <td>3</td>\n",
       "      <td>1.5483594</td>\n",
       "      <td>73182.62014288423</td>\n",
       "      <td>razqQKzJRdB4UxFPWf5NEpEG3WMkmwgcXA</td>\n",
       "    </tr>\n",
       "    <tr>\n",
       "      <th>5</th>\n",
       "      <td>CNY</td>\n",
       "      <td>25060</td>\n",
       "      <td>2</td>\n",
       "      <td>1.5341391</td>\n",
       "      <td>16334.89409249035</td>\n",
       "      <td>rKiCet8SdvWxPXnAgYarFUXMh1zCPz432Y</td>\n",
       "    </tr>\n",
       "    <tr>\n",
       "      <th>6</th>\n",
       "      <td>ETH</td>\n",
       "      <td>8.489266119186878</td>\n",
       "      <td>2</td>\n",
       "      <td>0.0015283669</td>\n",
       "      <td>5554.468594385366</td>\n",
       "      <td>rcA8X3TVMST1n3CJeAdGk1RdRCHii7N2h</td>\n",
       "    </tr>\n",
       "    <tr>\n",
       "      <th>7</th>\n",
       "      <td>CNY</td>\n",
       "      <td>1434</td>\n",
       "      <td>2</td>\n",
       "      <td>1.5072279</td>\n",
       "      <td>951.4154813954865</td>\n",
       "      <td>rJ1adrpGS3xsnQMb9Cw54tWJVFPuSdZHK</td>\n",
       "    </tr>\n",
       "  </tbody>\n",
       "</table>\n",
       "</div>"
      ],
      "text/plain": [
       "  currency              amount  count            rate    converted_amount  \\\n",
       "0      XRP  286137162.51703876  30019       1.0000000  286137162.51703876   \n",
       "1      USD   366451.1315321557     21      0.21045021  1741272.3729973938   \n",
       "2      EUR           112366.67     19      0.19575460   574018.0393054141   \n",
       "3      BTC   3.857164527453107     13  0.000029713202  129813.15640779426   \n",
       "4      CNY              113313      3       1.5483594   73182.62014288423   \n",
       "5      CNY               25060      2       1.5341391   16334.89409249035   \n",
       "6      ETH   8.489266119186878      2    0.0015283669   5554.468594385366   \n",
       "7      CNY                1434      2       1.5072279   951.4154813954865   \n",
       "\n",
       "                               issuer  \n",
       "0                                 NaN  \n",
       "1   rvYAfWj5gh67oV6fW32ZzP3Aw4Eubs59B  \n",
       "2  rhub8VRN55s94qWKDv6jmDy1pUykJzF3wq  \n",
       "3   rchGBxcD1A1C2tdxF6papQYZ8kjRKMYcL  \n",
       "4  razqQKzJRdB4UxFPWf5NEpEG3WMkmwgcXA  \n",
       "5  rKiCet8SdvWxPXnAgYarFUXMh1zCPz432Y  \n",
       "6   rcA8X3TVMST1n3CJeAdGk1RdRCHii7N2h  \n",
       "7   rJ1adrpGS3xsnQMb9Cw54tWJVFPuSdZHK  "
      ]
     },
     "execution_count": 20,
     "metadata": {},
     "output_type": "execute_result"
    }
   ],
   "source": [
    "volume = api.get_payment_volume()\n",
    "\n",
    "df_volume = pd.DataFrame.from_dict(volume['rows'][0]['components'], orient='columns')\n",
    "df_volume"
   ]
  },
  {
   "cell_type": "code",
   "execution_count": 21,
   "metadata": {},
   "outputs": [],
   "source": [
    "df_volume['amount'] = df_volume['amount'].astype('float')"
   ]
  },
  {
   "cell_type": "code",
   "execution_count": 22,
   "metadata": {},
   "outputs": [],
   "source": [
    "#grouping values by currency (we will show the total volume considering all issuers)\n",
    "df_volume = df_volume.groupby(['currency'])['amount'].agg('sum').to_frame('total_amount').reset_index()"
   ]
  },
  {
   "cell_type": "code",
   "execution_count": 23,
   "metadata": {},
   "outputs": [
    {
     "data": {
      "text/html": [
       "<div>\n",
       "<style scoped>\n",
       "    .dataframe tbody tr th:only-of-type {\n",
       "        vertical-align: middle;\n",
       "    }\n",
       "\n",
       "    .dataframe tbody tr th {\n",
       "        vertical-align: top;\n",
       "    }\n",
       "\n",
       "    .dataframe thead th {\n",
       "        text-align: right;\n",
       "    }\n",
       "</style>\n",
       "<table border=\"1\" class=\"dataframe\">\n",
       "  <thead>\n",
       "    <tr style=\"text-align: right;\">\n",
       "      <th></th>\n",
       "      <th>currency</th>\n",
       "      <th>total_amount</th>\n",
       "    </tr>\n",
       "  </thead>\n",
       "  <tbody>\n",
       "    <tr>\n",
       "      <th>0</th>\n",
       "      <td>BTC</td>\n",
       "      <td>3.857165e+00</td>\n",
       "    </tr>\n",
       "    <tr>\n",
       "      <th>1</th>\n",
       "      <td>CNY</td>\n",
       "      <td>1.398070e+05</td>\n",
       "    </tr>\n",
       "    <tr>\n",
       "      <th>2</th>\n",
       "      <td>ETH</td>\n",
       "      <td>8.489266e+00</td>\n",
       "    </tr>\n",
       "    <tr>\n",
       "      <th>3</th>\n",
       "      <td>EUR</td>\n",
       "      <td>1.123667e+05</td>\n",
       "    </tr>\n",
       "    <tr>\n",
       "      <th>4</th>\n",
       "      <td>USD</td>\n",
       "      <td>3.664511e+05</td>\n",
       "    </tr>\n",
       "    <tr>\n",
       "      <th>5</th>\n",
       "      <td>XRP</td>\n",
       "      <td>2.861372e+08</td>\n",
       "    </tr>\n",
       "  </tbody>\n",
       "</table>\n",
       "</div>"
      ],
      "text/plain": [
       "  currency  total_amount\n",
       "0      BTC  3.857165e+00\n",
       "1      CNY  1.398070e+05\n",
       "2      ETH  8.489266e+00\n",
       "3      EUR  1.123667e+05\n",
       "4      USD  3.664511e+05\n",
       "5      XRP  2.861372e+08"
      ]
     },
     "execution_count": 23,
     "metadata": {},
     "output_type": "execute_result"
    }
   ],
   "source": [
    "df_volume"
   ]
  },
  {
   "cell_type": "code",
   "execution_count": 24,
   "metadata": {},
   "outputs": [
    {
     "data": {
      "image/png": "[encoded data removed]",
      "text/plain": [
       "<Figure size 576x576 with 1 Axes>"
      ]
     },
     "metadata": {},
     "output_type": "display_data"
    }
   ],
   "source": [
    "#function for disconsidering % on the chart for low values\n",
    "def my_autopct(pct):\n",
    "    return ('%.2f%%' % pct) if pct > 5 else ''\n",
    "\n",
    "series = pd.Series(df_volume['total_amount'].values, index=df_volume['currency'], name='')\n",
    "series.plot.pie(labels=df_volume['currency'], autopct=my_autopct, figsize=(8,8))\n",
    "\n",
    "plt.title('Payment Volume by Currency')\n",
    "plt.tight_layout()\n",
    "plt.show()"
   ]
  },
  {
   "cell_type": "markdown",
   "metadata": {},
   "source": [
    "<div class=\"alert alert-block alert-info\">\n",
    "<b>Payment Volume:</b> We can see by the chart and table above that 99.83% of all payments are made in XRP. \n",
    "</div>"
   ]
  },
  {
   "cell_type": "markdown",
   "metadata": {},
   "source": [
    "### Top Currencies - Based on the average number of daily payments"
   ]
  },
  {
   "cell_type": "code",
   "execution_count": 25,
   "metadata": {},
   "outputs": [],
   "source": [
    "top_currencies = api.get_top_currencies()\n",
    "\n",
    "df_top_currencies = pd.DataFrame.from_dict(top_currencies['currencies'], orient='columns')"
   ]
  },
  {
   "cell_type": "code",
   "execution_count": 26,
   "metadata": {},
   "outputs": [],
   "source": [
    "df_top_currencies['avg_payment_count'] = df_top_currencies['avg_payment_count'].astype('float')"
   ]
  },
  {
   "cell_type": "code",
   "execution_count": 27,
   "metadata": {},
   "outputs": [],
   "source": [
    "#grouping the currencies - considering the total (not separating by issuer)\n",
    "total_num_payments = df_top_currencies.groupby('currency')['avg_payment_count'].agg('sum').to_frame('avg_payment_total') \\\n",
    "                                                                                          .reset_index()\n",
    "total_num_payments.sort_values('avg_payment_total', ascending = False, inplace=True)"
   ]
  },
  {
   "cell_type": "code",
   "execution_count": 28,
   "metadata": {},
   "outputs": [
    {
     "data": {
      "text/html": [
       "<div>\n",
       "<style scoped>\n",
       "    .dataframe tbody tr th:only-of-type {\n",
       "        vertical-align: middle;\n",
       "    }\n",
       "\n",
       "    .dataframe tbody tr th {\n",
       "        vertical-align: top;\n",
       "    }\n",
       "\n",
       "    .dataframe thead th {\n",
       "        text-align: right;\n",
       "    }\n",
       "</style>\n",
       "<table border=\"1\" class=\"dataframe\">\n",
       "  <thead>\n",
       "    <tr style=\"text-align: right;\">\n",
       "      <th></th>\n",
       "      <th>currency</th>\n",
       "      <th>avg_payment_total</th>\n",
       "    </tr>\n",
       "  </thead>\n",
       "  <tbody>\n",
       "    <tr>\n",
       "      <th>6</th>\n",
       "      <td>USD</td>\n",
       "      <td>109.604167</td>\n",
       "    </tr>\n",
       "    <tr>\n",
       "      <th>0</th>\n",
       "      <td>BTC</td>\n",
       "      <td>109.341435</td>\n",
       "    </tr>\n",
       "    <tr>\n",
       "      <th>4</th>\n",
       "      <td>GMT</td>\n",
       "      <td>82.333333</td>\n",
       "    </tr>\n",
       "    <tr>\n",
       "      <th>1</th>\n",
       "      <td>CNY</td>\n",
       "      <td>41.062500</td>\n",
       "    </tr>\n",
       "    <tr>\n",
       "      <th>3</th>\n",
       "      <td>EUR</td>\n",
       "      <td>24.812500</td>\n",
       "    </tr>\n",
       "  </tbody>\n",
       "</table>\n",
       "</div>"
      ],
      "text/plain": [
       "  currency  avg_payment_total\n",
       "6      USD         109.604167\n",
       "0      BTC         109.341435\n",
       "4      GMT          82.333333\n",
       "1      CNY          41.062500\n",
       "3      EUR          24.812500"
      ]
     },
     "execution_count": 28,
     "metadata": {},
     "output_type": "execute_result"
    }
   ],
   "source": [
    "total_num_payments.head()"
   ]
  },
  {
   "cell_type": "code",
   "execution_count": 29,
   "metadata": {},
   "outputs": [
    {
     "data": {
      "image/png": "[encoded data removed]",
      "text/plain": [
       "<Figure size 576x576 with 1 Axes>"
      ]
     },
     "metadata": {
      "needs_background": "light"
     },
     "output_type": "display_data"
    }
   ],
   "source": [
    "series = pd.Series(total_num_payments['avg_payment_total'].values, index=total_num_payments['currency'], name='')\n",
    "series.plot.bar(figsize=(8,8))\n",
    "\n",
    "plt.title('Top currencies by average number of daily payments')\n",
    "plt.tight_layout()\n",
    "plt.show()"
   ]
  },
  {
   "cell_type": "markdown",
   "metadata": {},
   "source": [
    "### Number of new accounts created"
   ]
  },
  {
   "cell_type": "code",
   "execution_count": 30,
   "metadata": {},
   "outputs": [
    {
     "name": "stdout",
     "output_type": "stream",
     "text": [
      "Number of new accounts created in November, 2019: 30000\n"
     ]
    }
   ],
   "source": [
    "params = dict(start='2019-11-01', end='2019-11-30', limit=1000)\n",
    "accounts = api.get_accounts(**params)\n",
    "\n",
    "count = 0\n",
    "\n",
    "#when we don't have marker in the dictionary anymore it means we reached the last page\n",
    "while 'marker' in accounts:\n",
    "    count = count + accounts['count']\n",
    "    param_marker = dict(marker=accounts['marker'],limit=1000)\n",
    "    accounts = api.get_accounts(**param_marker)\n",
    "\n",
    "print(f'Number of new accounts created in November, 2019: {count}')"
   ]
  },
  {
   "cell_type": "markdown",
   "metadata": {},
   "source": [
    "### Exchange rate over time - CNY/XRP"
   ]
  },
  {
   "cell_type": "code",
   "execution_count": 31,
   "metadata": {},
   "outputs": [],
   "source": [
    "exchange_rate_df = pd.DataFrame('0',index=range(0,30),columns=['rate','date'])"
   ]
  },
  {
   "cell_type": "code",
   "execution_count": 33,
   "metadata": {},
   "outputs": [],
   "source": [
    "idx=0\n",
    "year_month = '2019-11'\n",
    "\n",
    "for i in range(1, 31):\n",
    "    date_string = year_month + \"-\" + str(i).zfill(2)\n",
    "    params = dict(date = date_string)\n",
    "    \n",
    "    exchange_rate_df.loc[idx]['date'] = date_string\n",
    "    exchange_rate_df.loc[idx]['rate'] = api.get_exchange_rates(base='CNY+rKiCet8SdvWxPXnAgYarFUXMh1zCPz432Y', counter='XRP', \n",
    "                                                      **params)['rate']    \n",
    "    \n",
    "    idx += 1"
   ]
  },
  {
   "cell_type": "code",
   "execution_count": 34,
   "metadata": {},
   "outputs": [],
   "source": [
    "exchange_rate_df['date'] = pd.to_datetime(exchange_rate_df['date'], format='%Y-%m-%d')"
   ]
  },
  {
   "cell_type": "code",
   "execution_count": 35,
   "metadata": {},
   "outputs": [
    {
     "data": {
      "image/png": "[encoded data removed]",
      "text/plain": [
       "<Figure size 864x576 with 1 Axes>"
      ]
     },
     "metadata": {
      "needs_background": "light"
     },
     "output_type": "display_data"
    }
   ],
   "source": [
    "exchange_rate = pd.DataFrame(exchange_rate_df[['rate']].values.astype('float'), index=exchange_rate_df['date'],\n",
    "             columns=['rate'])\n",
    "\n",
    "exchange_rate.plot(figsize=(12,8))\n",
    "plt.tight_layout()\n",
    "plt.title('Exchange Rate (CNY/XRP), November 2019')\n",
    "plt.show()"
   ]
  },
  {
   "cell_type": "code",
   "execution_count": null,
   "metadata": {},
   "outputs": [],
   "source": []
  }
 ],
 "metadata": {
  "kernelspec": {
   "display_name": "Python 3",
   "language": "python",
   "name": "python3"
  },
  "language_info": {
   "codemirror_mode": {
    "name": "ipython",
    "version": 3
   },
   "file_extension": ".py",
   "mimetype": "text/x-python",
   "name": "python",
   "nbconvert_exporter": "python",
   "pygments_lexer": "ipython3",
   "version": "3.7.5"
  }
 },
 "nbformat": 4,
 "nbformat_minor": 2
}
